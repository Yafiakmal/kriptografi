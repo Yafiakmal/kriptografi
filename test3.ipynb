{
 "cells": [
  {
   "cell_type": "code",
   "execution_count": 10,
   "metadata": {},
   "outputs": [
    {
     "name": "stdout",
     "output_type": "stream",
     "text": [
      "[b'k', b'u', b' ', b't', b'a', b'k', b' ', b'b', b'i', b's', b'a', b' ', b'm', b'e', b'n', b'g', b'g', b'a', b'p', b'a', b'i', b'm', b'u']\n"
     ]
    },
    {
     "ename": "TypeError",
     "evalue": "can only concatenate str (not \"generator\") to str",
     "output_type": "error",
     "traceback": [
      "\u001b[0;31m---------------------------------------------------------------------------\u001b[0m",
      "\u001b[0;31mTypeError\u001b[0m                                 Traceback (most recent call last)",
      "Cell \u001b[0;32mIn[10], line 37\u001b[0m\n\u001b[1;32m     35\u001b[0m blocks \u001b[38;5;241m=\u001b[39m [\u001b[38;5;28mbytes\u001b[39m(s, \u001b[38;5;124m'\u001b[39m\u001b[38;5;124mutf-8\u001b[39m\u001b[38;5;124m'\u001b[39m) \u001b[38;5;28;01mfor\u001b[39;00m s \u001b[38;5;129;01min\u001b[39;00m (\u001b[38;5;124m\"\u001b[39m\u001b[38;5;124m\"\u001b[39m\u001b[38;5;241m.\u001b[39mjoin(divide_into_blocks(\u001b[38;5;124m\"\u001b[39m\u001b[38;5;124mku tak bisa menggapaimu\u001b[39m\u001b[38;5;124m\"\u001b[39m, \u001b[38;5;241m16\u001b[39m)))]\n\u001b[1;32m     36\u001b[0m \u001b[38;5;28mprint\u001b[39m(blocks)\n\u001b[0;32m---> 37\u001b[0m key \u001b[38;5;241m=\u001b[39m \u001b[38;5;124;43m\"\u001b[39;49m\u001b[38;5;124;43m\"\u001b[39;49m\u001b[38;5;241;43m+\u001b[39;49m\u001b[43m(\u001b[49m\u001b[38;5;28;43mbytes\u001b[39;49m\u001b[43m(\u001b[49m\u001b[43ms\u001b[49m\u001b[43m,\u001b[49m\u001b[43m \u001b[49m\u001b[38;5;124;43m'\u001b[39;49m\u001b[38;5;124;43mutf-8\u001b[39;49m\u001b[38;5;124;43m'\u001b[39;49m\u001b[43m)\u001b[49m\u001b[43m \u001b[49m\u001b[38;5;28;43;01mfor\u001b[39;49;00m\u001b[43m \u001b[49m\u001b[43ms\u001b[49m\u001b[43m \u001b[49m\u001b[38;5;129;43;01min\u001b[39;49;00m\u001b[43m \u001b[49m\u001b[43mcreate_key_128\u001b[49m\u001b[43m(\u001b[49m\u001b[38;5;124;43m\"\u001b[39;49m\u001b[38;5;124;43mini kunci rahasia\u001b[39;49m\u001b[38;5;124;43m\"\u001b[39;49m\u001b[43m)\u001b[49m\u001b[43m)\u001b[49m\n\u001b[1;32m     38\u001b[0m \u001b[38;5;28mprint\u001b[39m(xor_bytes(blocks, key))\n",
      "\u001b[0;31mTypeError\u001b[0m: can only concatenate str (not \"generator\") to str"
     ]
    }
   ],
   "source": [
    "import hashlib\n",
    "\n",
    "def xor_bytes(block, key):\n",
    "    # melakukan xor block plaintext dengan key\n",
    "    return bytes([x ^ y for x, y in zip(block, key)])\n",
    "\n",
    "def divide_into_blocks(plaintext, block_size):\n",
    "    blocks = []\n",
    "    #melakukan pengulangan dari karakter index ke 0 sampai index terakhir dengan iterasi perstep 16\n",
    "    for i in range(0, len(plaintext), block_size):\n",
    "        #mengambil nilai dari plaintext sebanyak 16 dari index terakhir.\n",
    "        block = plaintext[i:i + block_size]\n",
    "        blocks.append(block)\n",
    "    return blocks\n",
    "\n",
    "def create_key_128(key):\n",
    "    # Create a SHA-256 hash object\n",
    "    hash_object = hashlib.sha256()\n",
    "\n",
    "    # Update the hash object with the word bytes\n",
    "    key_byte = key.encode('utf-8')\n",
    "    hash_object.update(key_byte)\n",
    "\n",
    "    # Get the hexadecimal representation of the hash\n",
    "    hash_hex = hash_object.hexdigest()\n",
    "\n",
    "    # Extract the first 16 characters (128 bits) of the hash\n",
    "    fixed_key = hash_hex[:16]\n",
    "\n",
    "    return fixed_key\n",
    "\n",
    "blocks = [bytes(s, 'utf-8') for s in (\"\".join(divide_into_blocks(\"ku tak bisa menggapaimu\", 16)))]\n",
    "print(blocks)\n",
    "key = \"\"+(bytes(s, 'utf-8') for s in create_key_128(\"ini kunci rahasia\"))\n",
    "print(xor_bytes(blocks, key))"
   ]
  }
 ],
 "metadata": {
  "kernelspec": {
   "display_name": "Python 3",
   "language": "python",
   "name": "python3"
  },
  "language_info": {
   "codemirror_mode": {
    "name": "ipython",
    "version": 3
   },
   "file_extension": ".py",
   "mimetype": "text/x-python",
   "name": "python",
   "nbconvert_exporter": "python",
   "pygments_lexer": "ipython3",
   "version": "3.10.12"
  }
 },
 "nbformat": 4,
 "nbformat_minor": 2
}
